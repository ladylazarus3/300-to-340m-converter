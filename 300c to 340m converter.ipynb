{
 "cells": [
  {
   "cell_type": "code",
   "execution_count": 272,
   "metadata": {},
   "outputs": [],
   "source": [
    "#Import needed modules\n",
    "from pymarc import MARCWriter \n",
    "from pymarc import MARCReader\n",
    "from pymarc import Record\n",
    "from pymarc.field import Field\n",
    "import re\n"
   ]
  },
  {
   "cell_type": "code",
   "execution_count": 273,
   "metadata": {},
   "outputs": [],
   "source": [
    "#Create reader and writer\n",
    "reader = MARCReader(open('test3.mrc', 'rb'))\n",
    "writergood = MARCWriter(open('Recordswith300cconvertedtp340m.mrc', 'wb'))\n",
    "writerbad = MARCWriter(open('Recordsnotconverted.mrc', 'wb'))\n",
    "                        "
   ]
  },
  {
   "cell_type": "code",
   "execution_count": 274,
   "metadata": {},
   "outputs": [],
   "source": [
    "#Create some variables\n",
    "\n",
    "field300 = \"No 300\"\n",
    "field340m = \"No 340m\"\n",
    "Counterfield300c = 0\n",
    "Counterfield340m = 0"
   ]
  },
  {
   "cell_type": "code",
   "execution_count": 277,
   "metadata": {},
   "outputs": [
    {
     "ename": "SyntaxError",
     "evalue": "invalid syntax (<ipython-input-277-d7f308358dca>, line 46)",
     "output_type": "error",
     "traceback": [
      "\u001b[1;36m  File \u001b[1;32m\"<ipython-input-277-d7f308358dca>\"\u001b[1;36m, line \u001b[1;32m46\u001b[0m\n\u001b[1;33m    elif\u001b[0m\n\u001b[1;37m         ^\u001b[0m\n\u001b[1;31mSyntaxError\u001b[0m\u001b[1;31m:\u001b[0m invalid syntax\n"
     ]
    }
   ],
   "source": [
    "#Start loop through the records in the file\n",
    "for record in reader:\n",
    "    #Check to see if the item is a reproduction.\n",
    "    #Do not include rep\n",
    "    if record['533'] is None:\n",
    "        field300 = (record['300'])\n",
    "        field300string = str(field300)     \n",
    "        folio = re.findall(\"folio\" or \"2°\", field300string)\n",
    "        quarto = re.findall(\"quarto\" or \"4°\" or \"4to\" or \"4 to\", field300string)\n",
    "        octavo = re.findall(\"octavo\" or \"8°\" or \"8vo\" or \"8to\" or \"8 vo\", field300string)\n",
    "        duodecimo = re.findall(\"twelvemo\" or \"duodecimo\" or \"12°\" or \"12mo\" or \"12 mo\", field300string)\n",
    "        sixteenmo = re.findall(\"sixteenmo\" or \"16mo\" or \"16°\" or \"16 mo\", field300string)\n",
    "        eighteenmo = re.findall(\"eighteenmo\" or \"18mo\" or \"18°\" or \"18 mo\", field300string)\n",
    "        twentyfourmo = re.findall(\"twentyfourmo\" or \"24mo\" or \"24°\" or \"24 mo\", field300string)\n",
    "        fullsheet = re.findall(\"broadside\", field300string)\n",
    "        \n",
    "        #Adding 340 for Folios\n",
    "        if folio is not None:\n",
    "            record.add_ordered_field(\n",
    "                Field(\n",
    "                    tag = '340',\n",
    "                    indicators = [' ',' '],\n",
    "                    subfields = [\n",
    "                        'm', 'folio',\n",
    "                        '0', 'http://rdaregistry.info/termList/bookFormat/1001',\n",
    "                            ]))\n",
    "            writergood.write(record)\n",
    "            \n",
    "        #Add 340 for Quartos\n",
    "        elif quarto is not None:\n",
    "            record.add_ordered_field(\n",
    "                Field(\n",
    "                    tag = '340',\n",
    "                    indicators = [' ',' '],\n",
    "                    subfields = [\n",
    "                        'm', '4to',\n",
    "                        '0', 'http://rdaregistry.info/termList/bookFormat/1002',\n",
    "                            ]))\n",
    "            writergood.write(record)\n",
    "            \n",
    "        #Add 340 for Duodecimos\n",
    "        elif duodecimo is not None:\n",
    "            record.add_ordered_field(\n",
    "                Field(\n",
    "                    tag = '340',\n",
    "                    indicators = [' ',' '],\n",
    "                    subfields = [\n",
    "                        'm', '12mo',\n",
    "                        '0', 'http://rdaregistry.info/termList/bookFormat/1004',\n",
    "                            ]))\n",
    "            writergood.write(record)\n",
    "            \n",
    "        #Add 340 for Sixteenmos\n",
    "        elif sixteenmo is not None:\n",
    "            record.add_ordered_field(\n",
    "                Field(\n",
    "                    tag = '340',\n",
    "                    indicators = [' ',' '],\n",
    "                    subfields = [\n",
    "                        'm', '16mo',\n",
    "                        '0', 'http://rdaregistry.info/termList/bookFormat/1005',\n",
    "                            ]))\n",
    "        #Add 340 for Eighteenmos\n",
    "        elif fullsheet\n",
    "        else:\n",
    "            message = 'No descernable bibliographic format was identified in record'\n",
    "            writerbad.write(record) \n",
    "    else:\n",
    "        message = 'Bibliographic record is for a reproduction'\n",
    "        writerbad.write(record)\n",
    "            \n",
    "            \n",
    "            \n",
    "        "
   ]
  },
  {
   "cell_type": "code",
   "execution_count": 276,
   "metadata": {},
   "outputs": [],
   "source": [
    "#Close the writers\n",
    "writergood.close()      \n",
    "writerbad.close()"
   ]
  },
  {
   "cell_type": "code",
   "execution_count": 210,
   "metadata": {},
   "outputs": [
    {
     "ename": "IndentationError",
     "evalue": "unexpected indent (<ipython-input-210-e8b4d9437c96>, line 2)",
     "output_type": "error",
     "traceback": [
      "\u001b[1;36m  File \u001b[1;32m\"<ipython-input-210-e8b4d9437c96>\"\u001b[1;36m, line \u001b[1;32m2\u001b[0m\n\u001b[1;33m    elif result == 'quarto' or '4to' or '4°':\u001b[0m\n\u001b[1;37m    ^\u001b[0m\n\u001b[1;31mIndentationError\u001b[0m\u001b[1;31m:\u001b[0m unexpected indent\n"
     ]
    }
   ],
   "source": [
    "            print(record)\n",
    "        elif result == 'quarto' or '4to' or '4°':\n",
    "                record.add_ordered_field(\n",
    "                Field(\n",
    "                tag = '340',\n",
    "                indicators = ['',''],\n",
    "                subfields = [\n",
    "                    'm', '4to'\n",
    "                    '0', 'http://rdaregistry.info/termList/bookFormat/1002'\n",
    "                ]))\n",
    "        else:\n",
    "            message = 'No descernable bibliographic format was identified in record'\n",
    "            writerbad.write(record)  \n",
    "        \n",
    "    #If the bib records is for a reproduction, write the record to the bad file    \n",
    "    else:\n"
   ]
  },
  {
   "cell_type": "code",
   "execution_count": null,
   "metadata": {},
   "outputs": [],
   "source": [
    "  #Check for string values associated with folios\n",
    "        if re.findall(\"folio\", field300string) is not None:\n",
    "            print(result)\n",
    "            record.add_ordered_field(\n",
    "                Field(\n",
    "                    tag = '340',\n",
    "                    indicators = ['',''],\n",
    "                    subfields = [\n",
    "                        'm', 'folio'\n",
    "                        '0', 'http://rdaregistry.info/termList/bookFormat/1001'\n",
    "                            ]))\n",
    "    else:\n",
    "        message = 'Bibliographic record is for a reproduction'\n",
    "        writerbad.write(recor"
   ]
  }
 ],
 "metadata": {
  "kernelspec": {
   "display_name": "Python 3",
   "language": "python",
   "name": "python3"
  },
  "language_info": {
   "codemirror_mode": {
    "name": "ipython",
    "version": 3
   },
   "file_extension": ".py",
   "mimetype": "text/x-python",
   "name": "python",
   "nbconvert_exporter": "python",
   "pygments_lexer": "ipython3",
   "version": "3.7.0"
  }
 },
 "nbformat": 4,
 "nbformat_minor": 2
}
